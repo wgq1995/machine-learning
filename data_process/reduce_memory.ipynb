{
 "cells": [
  {
   "cell_type": "markdown",
   "metadata": {},
   "source": [
    "# 数据处理减小内存方法\n",
    "    腾讯比赛中，需要从txt中读取数据，然后处理，这里做一些降低内存使用的测试"
   ]
  },
  {
   "cell_type": "code",
   "execution_count": 1,
   "metadata": {},
   "outputs": [],
   "source": [
    "import sys\n",
    "import numpy as np\n",
    "import pandas as pd"
   ]
  },
  {
   "cell_type": "code",
   "execution_count": 2,
   "metadata": {},
   "outputs": [
    {
     "name": "stdout",
     "output_type": "stream",
     "text": [
      "40096\n",
      "80096\n"
     ]
    }
   ],
   "source": [
    "# 通过指定dtype，可以实现降低内存使用\n",
    "dtype1 = np.float32\n",
    "dtype2 = np.float64\n",
    "a = np.array([], dtype=dtype1)\n",
    "b = np.array([], dtype=dtype2)\n",
    "for i in range(10000):\n",
    "    a = np.concatenate([a, np.array([i], dtype=dtype1)])\n",
    "    b = np.concatenate([b, np.array([i], dtype=dtype2)])\n",
    "print(sys.getsizeof(a))\n",
    "print(sys.getsizeof(b))"
   ]
  },
  {
   "cell_type": "code",
   "execution_count": 3,
   "metadata": {},
   "outputs": [
    {
     "name": "stdout",
     "output_type": "stream",
     "text": [
      "28 58 72 1184\n",
      "656\n"
     ]
    }
   ],
   "source": [
    "# 如果用list存数据比较费内存，但是通过np指定数据类型可以节约内存\n",
    "a = 123456789\n",
    "b = '123456789'\n",
    "c = ['123']\n",
    "d = [123, 456, 789, 101, 123, 456, 789]*20\n",
    "e = np.array(d, dtype=dtype1)\n",
    "print(sys.getsizeof(a), sys.getsizeof(b), sys.getsizeof(c), sys.getsizeof(d))\n",
    "print(sys.getsizeof(e))"
   ]
  },
  {
   "cell_type": "code",
   "execution_count": 4,
   "metadata": {},
   "outputs": [
    {
     "name": "stdout",
     "output_type": "stream",
     "text": [
      "1224\n",
      "664\n",
      "1784\n"
     ]
    }
   ],
   "source": [
    "# 转换成dataframe一样的道理，指定数据类型的数据占用更少的内存\n",
    "df1 = pd.DataFrame({\n",
    "    'a': d\n",
    "})\n",
    "\n",
    "df2 = pd.DataFrame({\n",
    "    'a': e\n",
    "})\n",
    "\n",
    "df3 = pd.DataFrame({\n",
    "    'a': d,\n",
    "    'b': e\n",
    "})\n",
    "\n",
    "print(sys.getsizeof(df1))\n",
    "print(sys.getsizeof(df2))\n",
    "print(sys.getsizeof(df3))"
   ]
  },
  {
   "cell_type": "code",
   "execution_count": null,
   "metadata": {},
   "outputs": [],
   "source": []
  }
 ],
 "metadata": {
  "kernelspec": {
   "display_name": "Python 3",
   "language": "python",
   "name": "python3"
  },
  "language_info": {
   "codemirror_mode": {
    "name": "ipython",
    "version": 3
   },
   "file_extension": ".py",
   "mimetype": "text/x-python",
   "name": "python",
   "nbconvert_exporter": "python",
   "pygments_lexer": "ipython3",
   "version": "3.7.0"
  }
 },
 "nbformat": 4,
 "nbformat_minor": 2
}
