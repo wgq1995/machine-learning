{
 "cells": [
  {
   "attachments": {},
   "cell_type": "markdown",
   "metadata": {},
   "source": [
    "# 纽约出租车费用预测\n",
    "![u](https://raw.githubusercontent.com/wgq1995/machine-learning/master/predict_texi_fare/Screenshot%20from%202018-10-31%2019-42-23.png)\n",
    "![u](https://raw.githubusercontent.com/wgq1995/machine-learning/master/predict_texi_fare/Screenshot%20from%202018-10-31%2019-41-06.png)"
   ]
  },
  {
   "cell_type": "code",
   "execution_count": 1,
   "metadata": {
    "collapsed": true
   },
   "outputs": [],
   "source": [
    "import numpy as np\n",
    "import pandas as pd\n",
    "import matplotlib.pyplot as plt\n",
    "from matplotlib.patches import Rectangle\n",
    "import lightgbm as lgbm\n",
    "from sklearn.model_selection import train_test_split\n",
    "from sklearn import metrics\n",
    "% matplotlib inline\n",
    "plt.style.use('seaborn-whitegrid')"
   ]
  },
  {
   "attachments": {},
   "cell_type": "markdown",
   "metadata": {},
   "source": [
    "# 1. 转换数据类型\n",
    "    原始的数值型数据是float64和int64，但是不需要这么高的精度，例如乘客数目uint8就可以\n",
    "    可以降低一半的内存\n",
    "![image](https://raw.githubusercontent.com/wgq1995/machine-learning/master/predict_texi_fare/acf3f4029fd14355a6e8914e9892adcb.png)"
   ]
  },
  {
   "cell_type": "code",
   "execution_count": 2,
   "metadata": {
    "collapsed": true
   },
   "outputs": [],
   "source": [
    "traintypes = {'fare_amount': 'float16',\n",
    "              'pickup_datetime': 'object', \n",
    "              'pickup_longitude': 'float32',\n",
    "              'pickup_latitude': 'float32',\n",
    "              'dropoff_longitude': 'float32',\n",
    "              'dropoff_latitude': 'float32',\n",
    "              'passenger_count': 'uint8'}"
   ]
  },
  {
   "cell_type": "code",
   "execution_count": 3,
   "metadata": {},
   "outputs": [
    {
     "name": "stdout",
     "output_type": "stream",
     "text": [
      "不转换数据类型：\n",
      "<class 'pandas.core.frame.DataFrame'>\n",
      "RangeIndex: 2000000 entries, 0 to 1999999\n",
      "Data columns (total 7 columns):\n",
      "fare_amount          float64\n",
      "pickup_datetime      object\n",
      "pickup_longitude     float64\n",
      "pickup_latitude      float64\n",
      "dropoff_longitude    float64\n",
      "dropoff_latitude     float64\n",
      "passenger_count      int64\n",
      "dtypes: float64(5), int64(1), object(1)\n",
      "memory usage: 106.8+ MB\n",
      "转换数据类型：\n",
      "<class 'pandas.core.frame.DataFrame'>\n",
      "RangeIndex: 2000000 entries, 0 to 1999999\n",
      "Data columns (total 7 columns):\n",
      "fare_amount          float16\n",
      "pickup_datetime      object\n",
      "pickup_longitude     float32\n",
      "pickup_latitude      float32\n",
      "dropoff_longitude    float32\n",
      "dropoff_latitude     float32\n",
      "passenger_count      uint8\n",
      "dtypes: float16(1), float32(4), object(1), uint8(1)\n",
      "memory usage: 51.5+ MB\n"
     ]
    }
   ],
   "source": [
    "cols = list(traintypes.keys())\n",
    "df_train =  pd.read_csv('../data/train.csv', usecols=cols, nrows=2000000)\n",
    "print('不转换数据类型：')\n",
    "df_train.info()\n",
    "\n",
    "cols = list(traintypes.keys())\n",
    "df_train =  pd.read_csv('../data/train.csv', usecols=cols, dtype=traintypes, nrows=2000000)\n",
    "print('转换数据类型：')\n",
    "df_train.info()\n",
    "\n",
    "df_test =  pd.read_csv('../data/test_data2.csv', dtype=traintypes)"
   ]
  },
  {
   "cell_type": "markdown",
   "metadata": {},
   "source": [
    "# 2.通过describe分析\n",
    "    1.经纬度的最大最小值不合理：\n",
    "        longitude(经度)范围:[-180, 180]\n",
    "        latitude(纬度)范围:[-90, 90]\n",
    "    2.费用最大最小值不合理：\n",
    "        费用不可能为负数\n",
    "        1000多美元对于出注车太大了\n",
    "    3.乘客数目最大值最小值不合理：\n",
    "        最大值为208\n",
    "    4.下车点有一些空值，应该去除"
   ]
  },
  {
   "cell_type": "code",
   "execution_count": 4,
   "metadata": {},
   "outputs": [
    {
     "name": "stdout",
     "output_type": "stream",
     "text": [
      "训练数据描述：\n"
     ]
    },
    {
     "data": {
      "text/html": [
       "<div>\n",
       "<style>\n",
       "    .dataframe thead tr:only-child th {\n",
       "        text-align: right;\n",
       "    }\n",
       "\n",
       "    .dataframe thead th {\n",
       "        text-align: left;\n",
       "    }\n",
       "\n",
       "    .dataframe tbody tr th {\n",
       "        vertical-align: top;\n",
       "    }\n",
       "</style>\n",
       "<table border=\"1\" class=\"dataframe\">\n",
       "  <thead>\n",
       "    <tr style=\"text-align: right;\">\n",
       "      <th></th>\n",
       "      <th>count</th>\n",
       "      <th>mean</th>\n",
       "      <th>std</th>\n",
       "      <th>min</th>\n",
       "      <th>25%</th>\n",
       "      <th>50%</th>\n",
       "      <th>75%</th>\n",
       "      <th>max</th>\n",
       "    </tr>\n",
       "  </thead>\n",
       "  <tbody>\n",
       "    <tr>\n",
       "      <th>fare_amount</th>\n",
       "      <td>2000000.0</td>\n",
       "      <td>NaN</td>\n",
       "      <td>NaN</td>\n",
       "      <td>-62.000000</td>\n",
       "      <td>6.000000</td>\n",
       "      <td>8.500000</td>\n",
       "      <td>12.500000</td>\n",
       "      <td>1273.000000</td>\n",
       "    </tr>\n",
       "    <tr>\n",
       "      <th>pickup_longitude</th>\n",
       "      <td>2000000.0</td>\n",
       "      <td>-72.523209</td>\n",
       "      <td>12.868041</td>\n",
       "      <td>-3377.680908</td>\n",
       "      <td>-73.992081</td>\n",
       "      <td>-73.981812</td>\n",
       "      <td>-73.967125</td>\n",
       "      <td>2856.441650</td>\n",
       "    </tr>\n",
       "    <tr>\n",
       "      <th>pickup_latitude</th>\n",
       "      <td>2000000.0</td>\n",
       "      <td>39.929619</td>\n",
       "      <td>7.983352</td>\n",
       "      <td>-3458.664795</td>\n",
       "      <td>40.734909</td>\n",
       "      <td>40.752628</td>\n",
       "      <td>40.767101</td>\n",
       "      <td>2621.628418</td>\n",
       "    </tr>\n",
       "    <tr>\n",
       "      <th>dropoff_longitude</th>\n",
       "      <td>1999986.0</td>\n",
       "      <td>-72.523926</td>\n",
       "      <td>12.774972</td>\n",
       "      <td>-3383.296631</td>\n",
       "      <td>-73.991409</td>\n",
       "      <td>-73.980164</td>\n",
       "      <td>-73.963692</td>\n",
       "      <td>3414.306641</td>\n",
       "    </tr>\n",
       "    <tr>\n",
       "      <th>dropoff_latitude</th>\n",
       "      <td>1999986.0</td>\n",
       "      <td>39.928078</td>\n",
       "      <td>10.323815</td>\n",
       "      <td>-3461.540771</td>\n",
       "      <td>40.733997</td>\n",
       "      <td>40.753124</td>\n",
       "      <td>40.768093</td>\n",
       "      <td>3345.917236</td>\n",
       "    </tr>\n",
       "    <tr>\n",
       "      <th>passenger_count</th>\n",
       "      <td>2000000.0</td>\n",
       "      <td>1.684113</td>\n",
       "      <td>1.314982</td>\n",
       "      <td>0.000000</td>\n",
       "      <td>1.000000</td>\n",
       "      <td>1.000000</td>\n",
       "      <td>2.000000</td>\n",
       "      <td>208.000000</td>\n",
       "    </tr>\n",
       "  </tbody>\n",
       "</table>\n",
       "</div>"
      ],
      "text/plain": [
       "                       count       mean        std          min        25%  \\\n",
       "fare_amount        2000000.0        NaN        NaN   -62.000000   6.000000   \n",
       "pickup_longitude   2000000.0 -72.523209  12.868041 -3377.680908 -73.992081   \n",
       "pickup_latitude    2000000.0  39.929619   7.983352 -3458.664795  40.734909   \n",
       "dropoff_longitude  1999986.0 -72.523926  12.774972 -3383.296631 -73.991409   \n",
       "dropoff_latitude   1999986.0  39.928078  10.323815 -3461.540771  40.733997   \n",
       "passenger_count    2000000.0   1.684113   1.314982     0.000000   1.000000   \n",
       "\n",
       "                         50%        75%          max  \n",
       "fare_amount         8.500000  12.500000  1273.000000  \n",
       "pickup_longitude  -73.981812 -73.967125  2856.441650  \n",
       "pickup_latitude    40.752628  40.767101  2621.628418  \n",
       "dropoff_longitude -73.980164 -73.963692  3414.306641  \n",
       "dropoff_latitude   40.753124  40.768093  3345.917236  \n",
       "passenger_count     1.000000   2.000000   208.000000  "
      ]
     },
     "execution_count": 4,
     "metadata": {},
     "output_type": "execute_result"
    }
   ],
   "source": [
    "print('训练数据描述：')\n",
    "df_train.describe().T"
   ]
  },
  {
   "cell_type": "code",
   "execution_count": 5,
   "metadata": {},
   "outputs": [
    {
     "name": "stdout",
     "output_type": "stream",
     "text": [
      "测试数据描述：\n"
     ]
    },
    {
     "data": {
      "text/html": [
       "<div>\n",
       "<style>\n",
       "    .dataframe thead tr:only-child th {\n",
       "        text-align: right;\n",
       "    }\n",
       "\n",
       "    .dataframe thead th {\n",
       "        text-align: left;\n",
       "    }\n",
       "\n",
       "    .dataframe tbody tr th {\n",
       "        vertical-align: top;\n",
       "    }\n",
       "</style>\n",
       "<table border=\"1\" class=\"dataframe\">\n",
       "  <thead>\n",
       "    <tr style=\"text-align: right;\">\n",
       "      <th></th>\n",
       "      <th>count</th>\n",
       "      <th>mean</th>\n",
       "      <th>std</th>\n",
       "      <th>min</th>\n",
       "      <th>25%</th>\n",
       "      <th>50%</th>\n",
       "      <th>75%</th>\n",
       "      <th>max</th>\n",
       "    </tr>\n",
       "  </thead>\n",
       "  <tbody>\n",
       "    <tr>\n",
       "      <th>fare_amount</th>\n",
       "      <td>9797.0</td>\n",
       "      <td>inf</td>\n",
       "      <td>9.445312</td>\n",
       "      <td>0.000000</td>\n",
       "      <td>6.101562</td>\n",
       "      <td>8.500000</td>\n",
       "      <td>12.500000</td>\n",
       "      <td>97.875000</td>\n",
       "    </tr>\n",
       "    <tr>\n",
       "      <th>pickup_longitude</th>\n",
       "      <td>9797.0</td>\n",
       "      <td>-73.975639</td>\n",
       "      <td>0.035659</td>\n",
       "      <td>-74.194481</td>\n",
       "      <td>-73.992104</td>\n",
       "      <td>-73.982109</td>\n",
       "      <td>-73.968353</td>\n",
       "      <td>-73.137390</td>\n",
       "    </tr>\n",
       "    <tr>\n",
       "      <th>pickup_latitude</th>\n",
       "      <td>9797.0</td>\n",
       "      <td>40.751045</td>\n",
       "      <td>0.028314</td>\n",
       "      <td>40.578201</td>\n",
       "      <td>40.736633</td>\n",
       "      <td>40.753338</td>\n",
       "      <td>40.767330</td>\n",
       "      <td>41.366138</td>\n",
       "    </tr>\n",
       "    <tr>\n",
       "      <th>dropoff_longitude</th>\n",
       "      <td>9797.0</td>\n",
       "      <td>-73.974342</td>\n",
       "      <td>0.036221</td>\n",
       "      <td>-74.183899</td>\n",
       "      <td>-73.991661</td>\n",
       "      <td>-73.980545</td>\n",
       "      <td>-73.964592</td>\n",
       "      <td>-73.137390</td>\n",
       "    </tr>\n",
       "    <tr>\n",
       "      <th>dropoff_latitude</th>\n",
       "      <td>9797.0</td>\n",
       "      <td>40.750912</td>\n",
       "      <td>0.032149</td>\n",
       "      <td>40.578201</td>\n",
       "      <td>40.734901</td>\n",
       "      <td>40.753841</td>\n",
       "      <td>40.768196</td>\n",
       "      <td>41.366138</td>\n",
       "    </tr>\n",
       "    <tr>\n",
       "      <th>passenger_count</th>\n",
       "      <td>9797.0</td>\n",
       "      <td>1.686639</td>\n",
       "      <td>1.308170</td>\n",
       "      <td>0.000000</td>\n",
       "      <td>1.000000</td>\n",
       "      <td>1.000000</td>\n",
       "      <td>2.000000</td>\n",
       "      <td>6.000000</td>\n",
       "    </tr>\n",
       "  </tbody>\n",
       "</table>\n",
       "</div>"
      ],
      "text/plain": [
       "                    count       mean       std        min        25%  \\\n",
       "fare_amount        9797.0        inf  9.445312   0.000000   6.101562   \n",
       "pickup_longitude   9797.0 -73.975639  0.035659 -74.194481 -73.992104   \n",
       "pickup_latitude    9797.0  40.751045  0.028314  40.578201  40.736633   \n",
       "dropoff_longitude  9797.0 -73.974342  0.036221 -74.183899 -73.991661   \n",
       "dropoff_latitude   9797.0  40.750912  0.032149  40.578201  40.734901   \n",
       "passenger_count    9797.0   1.686639  1.308170   0.000000   1.000000   \n",
       "\n",
       "                         50%        75%        max  \n",
       "fare_amount         8.500000  12.500000  97.875000  \n",
       "pickup_longitude  -73.982109 -73.968353 -73.137390  \n",
       "pickup_latitude    40.753338  40.767330  41.366138  \n",
       "dropoff_longitude -73.980545 -73.964592 -73.137390  \n",
       "dropoff_latitude   40.753841  40.768196  41.366138  \n",
       "passenger_count     1.000000   2.000000   6.000000  "
      ]
     },
     "execution_count": 5,
     "metadata": {},
     "output_type": "execute_result"
    }
   ],
   "source": [
    "print('测试数据描述：')\n",
    "df_test.describe().T"
   ]
  },
  {
   "cell_type": "code",
   "execution_count": 6,
   "metadata": {},
   "outputs": [
    {
     "data": {
      "text/html": [
       "<div>\n",
       "<style>\n",
       "    .dataframe thead tr:only-child th {\n",
       "        text-align: right;\n",
       "    }\n",
       "\n",
       "    .dataframe thead th {\n",
       "        text-align: left;\n",
       "    }\n",
       "\n",
       "    .dataframe tbody tr th {\n",
       "        vertical-align: top;\n",
       "    }\n",
       "</style>\n",
       "<table border=\"1\" class=\"dataframe\">\n",
       "  <thead>\n",
       "    <tr style=\"text-align: right;\">\n",
       "      <th></th>\n",
       "      <th>fare_amount</th>\n",
       "      <th>pickup_datetime</th>\n",
       "      <th>pickup_longitude</th>\n",
       "      <th>pickup_latitude</th>\n",
       "      <th>dropoff_longitude</th>\n",
       "      <th>dropoff_latitude</th>\n",
       "      <th>passenger_count</th>\n",
       "    </tr>\n",
       "  </thead>\n",
       "  <tbody>\n",
       "    <tr>\n",
       "      <th>0</th>\n",
       "      <td>4.500000</td>\n",
       "      <td>2009-06-15 17:26:21 UTC</td>\n",
       "      <td>-73.844315</td>\n",
       "      <td>40.721317</td>\n",
       "      <td>-73.841614</td>\n",
       "      <td>40.712276</td>\n",
       "      <td>1</td>\n",
       "    </tr>\n",
       "    <tr>\n",
       "      <th>1</th>\n",
       "      <td>16.906250</td>\n",
       "      <td>2010-01-05 16:52:16 UTC</td>\n",
       "      <td>-74.016045</td>\n",
       "      <td>40.711304</td>\n",
       "      <td>-73.979271</td>\n",
       "      <td>40.782005</td>\n",
       "      <td>1</td>\n",
       "    </tr>\n",
       "    <tr>\n",
       "      <th>2</th>\n",
       "      <td>5.699219</td>\n",
       "      <td>2011-08-18 00:35:00 UTC</td>\n",
       "      <td>-73.982735</td>\n",
       "      <td>40.761269</td>\n",
       "      <td>-73.991241</td>\n",
       "      <td>40.750561</td>\n",
       "      <td>2</td>\n",
       "    </tr>\n",
       "    <tr>\n",
       "      <th>3</th>\n",
       "      <td>7.699219</td>\n",
       "      <td>2012-04-21 04:30:42 UTC</td>\n",
       "      <td>-73.987129</td>\n",
       "      <td>40.733143</td>\n",
       "      <td>-73.991570</td>\n",
       "      <td>40.758091</td>\n",
       "      <td>1</td>\n",
       "    </tr>\n",
       "    <tr>\n",
       "      <th>4</th>\n",
       "      <td>5.300781</td>\n",
       "      <td>2010-03-09 07:51:00 UTC</td>\n",
       "      <td>-73.968094</td>\n",
       "      <td>40.768009</td>\n",
       "      <td>-73.956657</td>\n",
       "      <td>40.783764</td>\n",
       "      <td>1</td>\n",
       "    </tr>\n",
       "  </tbody>\n",
       "</table>\n",
       "</div>"
      ],
      "text/plain": [
       "   fare_amount          pickup_datetime  pickup_longitude  pickup_latitude  \\\n",
       "0     4.500000  2009-06-15 17:26:21 UTC        -73.844315        40.721317   \n",
       "1    16.906250  2010-01-05 16:52:16 UTC        -74.016045        40.711304   \n",
       "2     5.699219  2011-08-18 00:35:00 UTC        -73.982735        40.761269   \n",
       "3     7.699219  2012-04-21 04:30:42 UTC        -73.987129        40.733143   \n",
       "4     5.300781  2010-03-09 07:51:00 UTC        -73.968094        40.768009   \n",
       "\n",
       "   dropoff_longitude  dropoff_latitude  passenger_count  \n",
       "0         -73.841614         40.712276                1  \n",
       "1         -73.979271         40.782005                1  \n",
       "2         -73.991241         40.750561                2  \n",
       "3         -73.991570         40.758091                1  \n",
       "4         -73.956657         40.783764                1  "
      ]
     },
     "execution_count": 6,
     "metadata": {},
     "output_type": "execute_result"
    }
   ],
   "source": [
    "df_train.head()"
   ]
  },
  {
   "cell_type": "code",
   "execution_count": 7,
   "metadata": {},
   "outputs": [
    {
     "name": "stdout",
     "output_type": "stream",
     "text": [
      "fare_amount           0\n",
      "pickup_datetime       0\n",
      "pickup_longitude      0\n",
      "pickup_latitude       0\n",
      "dropoff_longitude    14\n",
      "dropoff_latitude     14\n",
      "passenger_count       0\n",
      "dtype: int64\n",
      "Old size: 2000000\n",
      "New size: 1999986\n"
     ]
    }
   ],
   "source": [
    "# 去除空值\n",
    "print(df_train.isnull().sum())\n",
    "print('Old size: %d' % len(df_train))\n",
    "df_train = df_train.dropna(how = 'any', axis = 'rows')\n",
    "print('New size: %d' % len(df_train))"
   ]
  },
  {
   "cell_type": "markdown",
   "metadata": {
    "collapsed": true
   },
   "source": [
    "# 3.数据清洗\n",
    "    清洗依据：\n",
    "        费用范围\n",
    "        乘客数目范围\n",
    "        经纬度范围"
   ]
  },
  {
   "cell_type": "markdown",
   "metadata": {},
   "source": [
    "## 3.1 fare_amount分析\n",
    "    1.应该去除费用小于2.5 且大于150的数据.\n",
    "    2.在40～60中间有一些奇特值，是因为到机场费用是固定收费\n",
    "    3.出租车2.5美元起步价，所以去除2.5美元一下的数据"
   ]
  },
  {
   "cell_type": "code",
   "execution_count": 8,
   "metadata": {},
   "outputs": [
    {
     "data": {
      "text/html": [
       "<div>\n",
       "<style>\n",
       "    .dataframe thead tr:only-child th {\n",
       "        text-align: right;\n",
       "    }\n",
       "\n",
       "    .dataframe thead th {\n",
       "        text-align: left;\n",
       "    }\n",
       "\n",
       "    .dataframe tbody tr th {\n",
       "        vertical-align: top;\n",
       "    }\n",
       "</style>\n",
       "<table border=\"1\" class=\"dataframe\">\n",
       "  <thead>\n",
       "    <tr style=\"text-align: right;\">\n",
       "      <th></th>\n",
       "      <th>fare_amount</th>\n",
       "    </tr>\n",
       "  </thead>\n",
       "  <tbody>\n",
       "    <tr>\n",
       "      <th>0.001</th>\n",
       "      <td>2.5</td>\n",
       "    </tr>\n",
       "    <tr>\n",
       "      <th>0.999</th>\n",
       "      <td>80.0</td>\n",
       "    </tr>\n",
       "  </tbody>\n",
       "</table>\n",
       "</div>"
      ],
      "text/plain": [
       "       fare_amount\n",
       "0.001          2.5\n",
       "0.999         80.0"
      ]
     },
     "execution_count": 8,
     "metadata": {},
     "output_type": "execute_result"
    }
   ],
   "source": [
    "df_train[['fare_amount']].quantile([0.001, 0.999])"
   ]
  },
  {
   "cell_type": "code",
   "execution_count": 9,
   "metadata": {},
   "outputs": [
    {
     "data": {
      "image/png": "[encoded data removed]",
      "text/plain": [
       "<matplotlib.figure.Figure at 0x7ff4c3e2ff28>"
      ]
     },
     "metadata": {},
     "output_type": "display_data"
    }
   ],
   "source": [
    "#直方图分析\n",
    "plt.figure(figsize=(10, 10))\n",
    "plt.subplot(2, 2, 1)\n",
    "plt.hist(df_train.fare_amount, bins=50, log=True)\n",
    "plt.xlabel('fare')\n",
    "plt.ylabel('counts')\n",
    "\n",
    "plt.subplot(2, 2, 2)\n",
    "plt.hist(df_train.fare_amount[(df_train.fare_amount <= 200) & (df_train.fare_amount >=0)], \n",
    "         bins=50, log=True)\n",
    "plt.xlabel('fare')\n",
    "plt.ylabel('counts')\n",
    "\n",
    "plt.subplot(2, 2, 3)\n",
    "plt.hist(df_train.fare_amount[(df_train.fare_amount <= 150) & (df_train.fare_amount >=0)], \n",
    "         bins=50, log=True)\n",
    "plt.xlabel('fare')\n",
    "plt.ylabel('counts')\n",
    "\n",
    "plt.subplot(2, 2, 4)\n",
    "plt.hist(df_train.fare_amount[(df_train.fare_amount <= 80) & (df_train.fare_amount >=0)], \n",
    "         bins=50, log=True)\n",
    "plt.xlabel('fare')\n",
    "plt.ylabel('counts')\n",
    "plt.show()"
   ]
  },
  {
   "cell_type": "code",
   "execution_count": 10,
   "metadata": {},
   "outputs": [
    {
     "name": "stdout",
     "output_type": "stream",
     "text": [
      "Old size: 1999986\n",
      "New size: 1997835\n"
     ]
    }
   ],
   "source": [
    "# 根据费用信息进行清洗\n",
    "print('Old size: %d' % len(df_train))\n",
    "df_train = df_train[(df_train.fare_amount>=2.5) & (df_train.fare_amount <=80)]\n",
    "print('New size: %d' % len(df_train))"
   ]
  },
  {
   "cell_type": "markdown",
   "metadata": {},
   "source": [
    "## 3.2 乘客数目分析\n",
    "    乘客数目应该限制在[1, 6]之间\n",
    "    对于乘客数目为0的数据，虽然有不少，但是0乘客没有意义，且测试集中没有0乘客的数据"
   ]
  },
  {
   "cell_type": "code",
   "execution_count": 11,
   "metadata": {},
   "outputs": [
    {
     "data": {
      "text/html": [
       "<div>\n",
       "<style>\n",
       "    .dataframe thead tr:only-child th {\n",
       "        text-align: right;\n",
       "    }\n",
       "\n",
       "    .dataframe thead th {\n",
       "        text-align: left;\n",
       "    }\n",
       "\n",
       "    .dataframe tbody tr th {\n",
       "        vertical-align: top;\n",
       "    }\n",
       "</style>\n",
       "<table border=\"1\" class=\"dataframe\">\n",
       "  <thead>\n",
       "    <tr style=\"text-align: right;\">\n",
       "      <th></th>\n",
       "      <th>passenger_count</th>\n",
       "    </tr>\n",
       "  </thead>\n",
       "  <tbody>\n",
       "    <tr>\n",
       "      <th>0.00001</th>\n",
       "      <td>0.0</td>\n",
       "    </tr>\n",
       "    <tr>\n",
       "      <th>0.99999</th>\n",
       "      <td>6.0</td>\n",
       "    </tr>\n",
       "  </tbody>\n",
       "</table>\n",
       "</div>"
      ],
      "text/plain": [
       "         passenger_count\n",
       "0.00001              0.0\n",
       "0.99999              6.0"
      ]
     },
     "execution_count": 11,
     "metadata": {},
     "output_type": "execute_result"
    }
   ],
   "source": [
    "df_train[['passenger_count']].quantile([0.00001, 0.99999])"
   ]
  },
  {
   "cell_type": "code",
   "execution_count": 12,
   "metadata": {},
   "outputs": [
    {
     "data": {
      "image/png": "[encoded data removed]",
      "text/plain": [
       "<matplotlib.figure.Figure at 0x7ff4c595dd30>"
      ]
     },
     "metadata": {},
     "output_type": "display_data"
    }
   ],
   "source": [
    "df_train.passenger_count.value_counts().plot(kind=\"bar\", logy=True, figsize=(10, 6))\n",
    "plt.show()"
   ]
  },
  {
   "cell_type": "code",
   "execution_count": 13,
   "metadata": {},
   "outputs": [
    {
     "name": "stdout",
     "output_type": "stream",
     "text": [
      "Old size: 1997835\n",
      "New size: 1997834\n"
     ]
    }
   ],
   "source": [
    "print('Old size: %d' % len(df_train))\n",
    "df_train = df_train[(df_train.passenger_count < 7) & (df_train.passenger_count >= 0)]\n",
    "print('New size: %d' % len(df_train))"
   ]
  },
  {
   "cell_type": "markdown",
   "metadata": {},
   "source": [
    "## 3.3 经纬度分析\n",
    "    查谷歌得到，纽约的经度在-74左右，纬度在40左右\n",
    "    截取经度[-76, -72],纬度[39, 42]"
   ]
  },
  {
   "cell_type": "code",
   "execution_count": 14,
   "metadata": {},
   "outputs": [
    {
     "name": "stdout",
     "output_type": "stream",
     "text": [
      "Old size: 1997834\n",
      "New size: 1956853\n"
     ]
    }
   ],
   "source": [
    "#先去除明显不在经纬度范围内的数据\n",
    "print('Old size: %d' % len(df_train))\n",
    "df_train = df_train[(df_train.pickup_longitude <= -72) & \n",
    "                    (df_train.pickup_longitude >= -76) &\n",
    "                    (df_train.pickup_latitude <= 42) & \n",
    "                    (df_train.pickup_latitude >= 39) & \n",
    "                    (df_train.dropoff_longitude <= -72) & \n",
    "                    (df_train.dropoff_longitude >= -76) &\n",
    "                    (df_train.dropoff_latitude <= 42) & \n",
    "                    (df_train.dropoff_latitude >= 39)]\n",
    "print('New size: %d' % len(df_train))"
   ]
  },
  {
   "cell_type": "code",
   "execution_count": 15,
   "metadata": {},
   "outputs": [
    {
     "data": {
      "image/png": "[encoded data removed]",
      "text/plain": [
       "<matplotlib.figure.Figure at 0x7ff4ca5e5550>"
      ]
     },
     "metadata": {},
     "output_type": "display_data"
    }
   ],
   "source": [
    "#boxplot分析训练集\n",
    "plt.figure(figsize=(12,6))\n",
    "plt.subplot(121)\n",
    "labels1 = ['pickup_longitude', 'dropoff_longitude']\n",
    "plt.boxplot([df_train.pickup_longitude, df_train.dropoff_longitude], labels = labels1)\n",
    "\n",
    "plt.subplot(122)\n",
    "labels2 = ['pickup_latitude', 'dropoff_latitude']\n",
    "plt.boxplot([df_train.pickup_latitude, df_train.dropoff_latitude], labels = labels2)\n",
    "\n",
    "plt.show()"
   ]
  },
  {
   "cell_type": "code",
   "execution_count": 16,
   "metadata": {},
   "outputs": [
    {
     "data": {
      "text/plain": [
       "[-74.194481, -73.13739, 40.578201, 41.366138]"
      ]
     },
     "execution_count": 16,
     "metadata": {},
     "output_type": "execute_result"
    }
   ],
   "source": [
    "#测试集longitude分布范围\n",
    "box1 = [min(df_test.pickup_longitude.min(), df_test.dropoff_longitude.min()),\n",
    "       max(df_test.pickup_longitude.max(), df_test.dropoff_longitude.max()),\\\n",
    "#测试集latitude分布范围\n",
    "       min(df_test.pickup_latitude.min(), df_test.dropoff_latitude.min()),\n",
    "       max(df_test.pickup_latitude.max(), df_test.dropoff_latitude.max())\n",
    "      ]\n",
    "box1"
   ]
  },
  {
   "cell_type": "code",
   "execution_count": 17,
   "metadata": {
    "collapsed": true
   },
   "outputs": [],
   "source": [
    "box = (-75, -72, 40, 42)\n",
    "def select_within_boundingbox(df, B):\n",
    "    return (df.pickup_longitude >= B[0]) & (df.pickup_longitude <= B[1]) & \\\n",
    "           (df.pickup_latitude >= B[2]) & (df.pickup_latitude <= B[3]) & \\\n",
    "           (df.dropoff_longitude >= B[0]) & (df.dropoff_longitude <= B[1]) & \\\n",
    "           (df.dropoff_latitude >= B[2]) & (df.dropoff_latitude <= B[3])"
   ]
  },
  {
   "cell_type": "code",
   "execution_count": 18,
   "metadata": {},
   "outputs": [
    {
     "name": "stdout",
     "output_type": "stream",
     "text": [
      "Old size: 1956853\n",
      "New size: 1956366\n"
     ]
    }
   ],
   "source": [
    "print('Old size: %d' % len(df_train))\n",
    "df_train = df_train[select_within_boundingbox(df_train, box)]\n",
    "print('New size: %d' % len(df_train))"
   ]
  },
  {
   "cell_type": "code",
   "execution_count": 19,
   "metadata": {
    "scrolled": false
   },
   "outputs": [
    {
     "data": {
      "image/png": "[encoded data removed]",
      "text/plain": [
       "<matplotlib.figure.Figure at 0x7ff4c3552668>"
      ]
     },
     "metadata": {},
     "output_type": "display_data"
    }
   ],
   "source": [
    "plt.figure(figsize=(12, 6))\n",
    "plt.subplot(121)\n",
    "plt.scatter(df_train.pickup_longitude, df_train.pickup_latitude, \n",
    "            c=df_train.fare_amount, cmap=plt.get_cmap(\"jet\"), alpha=0.01)\n",
    "plt.xlim((box[0], box[1]))\n",
    "plt.ylim((box[2], box[3]))\n",
    "plt.title('Pickup')\n",
    "currentAxis1=plt.gca()\n",
    "rect=Rectangle((box1[0], box1[2]), box1[1] - box1[0], box1[3] - box1[2], fill=False)\n",
    "currentAxis1.add_patch(rect)\n",
    "\n",
    "plt.subplot(122)\n",
    "plt.scatter(df_train.dropoff_longitude, df_train.dropoff_latitude, \n",
    "            c=df_train.fare_amount, cmap=plt.get_cmap(\"jet\"), alpha=0.01)\n",
    "plt.xlim((box[0], box[1]))\n",
    "plt.ylim((box[2], box[3]))\n",
    "plt.title('dropoff')\n",
    "currentAxis1=plt.gca()\n",
    "rect=Rectangle((box1[0], box1[2]), box1[1] - box1[0], box1[3] - box1[2], fill=False)\n",
    "currentAxis1.add_patch(rect)\n",
    "plt.show()"
   ]
  },
  {
   "attachments": {},
   "cell_type": "markdown",
   "metadata": {},
   "source": [
    "# 4. 特征工程\n",
    "    时间特征：\n",
    "        年，月，日，星期，小时\n",
    "    地理特征：\n",
    "        根据上下车地点的经纬度求得的地表距离\n",
    "        方位角(bearing)\n",
    "[地理信息]https://www.movable-type.co.uk/scripts/latlong.html\n",
    "\n",
    "    距离：\n",
    "![image](https://raw.githubusercontent.com/wgq1995/machine-learning/master/predict_texi_fare/Screenshot%20from%202018-10-31%2020-06-26.png)\n",
    "\n",
    "    方向角：\n",
    "![image](https://raw.githubusercontent.com/wgq1995/machine-learning/master/predict_texi_fare/Screenshot%20from%202018-10-31%2020-06-43.png)"
   ]
  },
  {
   "cell_type": "code",
   "execution_count": 20,
   "metadata": {
    "collapsed": true
   },
   "outputs": [],
   "source": [
    "#时间信息\n",
    "def add_datetime_info(data):\n",
    "    \"\"\"\n",
    "    添加时间特征：\n",
    "        年，月，日，小时，星期\n",
    "    \"\"\"\n",
    "    data['pickup_datetime'] =  pd.to_datetime(data['pickup_datetime'], format='%Y-%m-%d %H:%M:%S %Z')#%Z时区\n",
    "    data['year'] = data['pickup_datetime'].apply(lambda x: x.year)\n",
    "    data['month'] = data['pickup_datetime'].apply(lambda x: x.month)\n",
    "    data['day'] = data['pickup_datetime'].apply(lambda x: x.day)\n",
    "    data['hour'] = data['pickup_datetime'].apply(lambda x: x.hour)\n",
    "    data['weekday'] = data['pickup_datetime'].apply(lambda x: x.weekday())\n",
    "    return data"
   ]
  },
  {
   "cell_type": "code",
   "execution_count": 21,
   "metadata": {
    "collapsed": true
   },
   "outputs": [],
   "source": [
    "#地理信息\n",
    "def get_distance(pickup_lon, pickup_lat, dropoff_lon, dropoff_lat):\n",
    "    \"\"\"\n",
    "    计算两点间的球面距离\n",
    "    \"\"\"\n",
    "    pickup_lon,pickup_lat,dropoff_lon,dropoff_lat = map(np.radians,\n",
    "                                                        [pickup_lon,pickup_lat,\n",
    "                                                         dropoff_lon,dropoff_lat])\n",
    "    dlon = dropoff_lon - pickup_lon\n",
    "    dlat = dropoff_lat - pickup_lat\n",
    "    \n",
    "    a = np.sin(dlat/2.0)**2 + np.cos(pickup_lat) * np.cos(dropoff_lat) * np.sin(dlon/2.0)**2\n",
    "    \n",
    "    return 12742 * np.arcsin(np.sqrt(a))\n",
    "\n",
    "def get_bearing(pickup_lon, pickup_lat, dropoff_lon, dropoff_lat,):\n",
    "    \"\"\"\n",
    "    计算方位角\n",
    "    \"\"\"\n",
    "    R_earth = 6371\n",
    "\n",
    "    pickup_lon,pickup_lat,dropoff_lon,dropoff_lat = map(np.radians,\n",
    "                                                        [pickup_lon,pickup_lat,\n",
    "                                                         dropoff_lon,dropoff_lat])\n",
    "    dlat = dropoff_lat - pickup_lat\n",
    "    dlon = pickup_lon - dropoff_lon\n",
    "    \n",
    "    a = np.arctan2(np.sin(dlon * np.cos(dropoff_lat)),\n",
    "                   np.cos(pickup_lat) * np.sin(dropoff_lat) - \n",
    "                   np.sin(pickup_lat) * np.cos(dropoff_lat) * \n",
    "                   np.cos(dlon))\n",
    "    return a\n",
    "\n",
    "def add_geography_info(data):\n",
    "    data['distance'] = get_distance(data['pickup_longitude'], data['pickup_latitude'],\n",
    "                            data['dropoff_longitude'], data['dropoff_latitude'])\n",
    "    data['bearing'] = get_bearing(data['pickup_longitude'], data['pickup_latitude'],\n",
    "                            data['dropoff_longitude'], data['dropoff_latitude'])\n",
    "    return data"
   ]
  },
  {
   "cell_type": "markdown",
   "metadata": {},
   "source": [
    "[收费明细]：http://www.nyc.gov/html/tlc/html/passenger/taxicab_rate.shtml\n",
    "\n",
    "交通信息:\n",
    "\n",
    "    计量票价信息:\n",
    "        起始费用为2.50美元\n",
    "        结束于 New York City or Nassau, Suffolk, Westchester, Rockland, Dutchess, Orange or Putnam Counties有50美分额外费用\n",
    "\n",
    "    往返通行费:\n",
    "        乘客必须在Westchester和Nassau县支付往返目的地的所有通行费。\n",
    "        乘客必须支付往返 Newark Airport 的所有通行费\n",
    "\n",
    "    机场费用:\n",
    "        往返JFK和曼哈顿的任何地方这是52美元的固定票价加上通行费，50美分的MTA州附加费，30美分的改善附加费和4.50美元的高\n",
    "\t\t峰时段附加费（工作日下午4点到晚上8点，不包括法定假日）。\n",
    "        到纽瓦克机场，附加费为17.50美元"
   ]
  },
  {
   "cell_type": "code",
   "execution_count": 22,
   "metadata": {
    "collapsed": true
   },
   "outputs": [],
   "source": [
    "#特殊的交通信息\n",
    "def add_traffic_info(data):\n",
    "    \"\"\"\n",
    "    特殊交通特征\n",
    "    \"\"\"\n",
    "    #纽约中心 = 曼哈顿\n",
    "    nyc = (-74.006090, 40.711981)\n",
    "    \n",
    "    #城市\n",
    "    Nassau = (-73.5594, 40.6546)\n",
    "    Suffolk = (-72.6151, 40.9849)\n",
    "    Westchester = (-73.7949, 41.1220)\n",
    "    Rockland = (-73.9830, 41.1489)\n",
    "    Dutchess = (-73.7478, 41.7784)\n",
    "    Orange = (-74.3118, 41.3912)\n",
    "    Putnam = (-73.7949, 41.4351) \n",
    "\n",
    "    #机场（纽约两个收费特殊的机场）\n",
    "    jfk = (-73.7781, 40.6413)#肯尼迪机场\n",
    "    ewr = (-74.1745, 40.6895)#纽瓦克机场    \n",
    "    \n",
    "    #城市\n",
    "    data['pickup_distance_to_center'] = get_distance(nyc[0], nyc[1],\n",
    "                                      data['pickup_longitude'], data['pickup_latitude'])\n",
    "    data['dropoff_distance_to_center'] = get_distance(nyc[0], nyc[1],\n",
    "                                      data['dropoff_longitude'], data['dropoff_latitude'])\n",
    "    \n",
    "    data['pickup_distance_to_Nassau'] = get_distance(Nassau[0], Nassau[1],\n",
    "                                      data['pickup_longitude'], data['pickup_latitude'])\n",
    "    data['dropoff_distance_to_Nassau'] = get_distance(Nassau[0], Nassau[1],\n",
    "                                      data['dropoff_longitude'], data['dropoff_latitude'])\n",
    "    \n",
    "    data['dropoff_distance_to_Suffolk'] = get_distance(Suffolk[0], Suffolk[1],\n",
    "                                      data['dropoff_longitude'], data['dropoff_latitude'])\n",
    "    \n",
    "    data['pickup_distance_to_Westchester'] = get_distance(Westchester[0], Westchester[1],\n",
    "                                      data['pickup_longitude'], data['pickup_latitude'])\n",
    "    data['dropoff_distance_to_Westchester'] = get_distance(Westchester[0], Westchester[1],\n",
    "                                      data['dropoff_longitude'], data['dropoff_latitude'])\n",
    "    \n",
    "    data['dropoff_distance_to_Rockland'] = get_distance(Rockland[0], Rockland[1],\n",
    "                                      data['dropoff_longitude'], data['dropoff_latitude'])\n",
    "\n",
    "    data['dropoff_distance_to_Dutchess'] = get_distance(Dutchess[0], Dutchess[1],\n",
    "                                      data['dropoff_longitude'], data['dropoff_latitude'])\n",
    "    \n",
    "    data['dropoff_distance_to_Orange'] = get_distance(Orange[0], Orange[1],\n",
    "                                      data['dropoff_longitude'], data['dropoff_latitude'])\n",
    "    \n",
    "    data['dropoff_distance_to_Putnam'] = get_distance(Putnam[0], Putnam[1],\n",
    "                                      data['dropoff_longitude'], data['dropoff_latitude'])\n",
    "    \n",
    "    #机场\n",
    "    data['pickup_distance_to_jfk'] = get_distance(jfk[0], jfk[1],\n",
    "                                         data['pickup_longitude'], data['pickup_latitude'])\n",
    "    data['dropoff_distance_to_jfk'] = get_distance(jfk[0], jfk[1],\n",
    "                                           data['dropoff_longitude'], data['dropoff_latitude'])\n",
    "    \n",
    "    data['pickup_distance_to_ewr'] = get_distance(ewr[0], ewr[1], \n",
    "                                          data['pickup_longitude'], data['pickup_latitude'])\n",
    "    data['dropoff_distance_to_ewr'] = get_distance(ewr[0], ewr[1],\n",
    "                                          data['dropoff_longitude'], data['dropoff_latitude'])\n",
    "                                                   \n",
    "    return data"
   ]
  },
  {
   "cell_type": "markdown",
   "metadata": {},
   "source": [
    "特殊收费规则:\n",
    "\n",
    "    从晚上8点到早上6点每天收取50美分的附加费。\n",
    "    工作日下午4点至晚上8点收取1美元的附加费，节假日除外。\n",
    "团体乘车:\n",
    "\n",
    "    2, 3, 4 人可以团体乘车"
   ]
  },
  {
   "cell_type": "code",
   "execution_count": 23,
   "metadata": {
    "collapsed": true
   },
   "outputs": [],
   "source": [
    "#特殊的收费情况\n",
    "def add_other_info(data):\n",
    "    \"\"\"\n",
    "    三个额外特征\n",
    "    \"\"\"\n",
    "    #夜间\n",
    "    data['night_hour'] = np.where((data['hour'] >= 20) |\n",
    "                                (data['hour'] <= 6), 1, 0)\n",
    "    \n",
    "    #晚高峰\n",
    "    data['peak_hour'] = np.where((data['hour'] >= 16) &\n",
    "                                (data['hour'] <= 20) & \n",
    "                                (data['weekday'] >=0) &\n",
    "                                (data['weekday'] <=4), 1, 0)\n",
    "    \n",
    "    #团体乘车\n",
    "    data['is_group'] = np.where((data['passenger_count'] >= 2) & \n",
    "                                (data['passenger_count'] <= 4), 1, 0)\n",
    "    \n",
    "    return data"
   ]
  },
  {
   "cell_type": "code",
   "execution_count": 24,
   "metadata": {
    "collapsed": true
   },
   "outputs": [],
   "source": [
    "def add_all_info(data):\n",
    "    \"\"\"\n",
    "    添加所有特征,并且去掉pickup_datetime特征\n",
    "    \"\"\"\n",
    "    data = add_datetime_info(data)\n",
    "    data = add_geography_info(data)\n",
    "    data = add_traffic_info(data)\n",
    "    data = add_other_info(data)\n",
    "    data.drop(['pickup_datetime'], axis=1, inplace=True)\n",
    "    \n",
    "    return data"
   ]
  },
  {
   "cell_type": "code",
   "execution_count": 25,
   "metadata": {},
   "outputs": [],
   "source": [
    "df_train = add_all_info(df_train)\n",
    "df_test = add_all_info(df_test)"
   ]
  },
  {
   "cell_type": "code",
   "execution_count": 26,
   "metadata": {},
   "outputs": [
    {
     "data": {
      "text/html": [
       "<div>\n",
       "<style>\n",
       "    .dataframe thead tr:only-child th {\n",
       "        text-align: right;\n",
       "    }\n",
       "\n",
       "    .dataframe thead th {\n",
       "        text-align: left;\n",
       "    }\n",
       "\n",
       "    .dataframe tbody tr th {\n",
       "        vertical-align: top;\n",
       "    }\n",
       "</style>\n",
       "<table border=\"1\" class=\"dataframe\">\n",
       "  <thead>\n",
       "    <tr style=\"text-align: right;\">\n",
       "      <th></th>\n",
       "      <th>fare_amount</th>\n",
       "      <th>pickup_longitude</th>\n",
       "      <th>pickup_latitude</th>\n",
       "      <th>dropoff_longitude</th>\n",
       "      <th>dropoff_latitude</th>\n",
       "      <th>passenger_count</th>\n",
       "      <th>year</th>\n",
       "      <th>month</th>\n",
       "      <th>day</th>\n",
       "      <th>hour</th>\n",
       "      <th>...</th>\n",
       "      <th>dropoff_distance_to_Dutchess</th>\n",
       "      <th>dropoff_distance_to_Orange</th>\n",
       "      <th>dropoff_distance_to_Putnam</th>\n",
       "      <th>pickup_distance_to_jfk</th>\n",
       "      <th>dropoff_distance_to_jfk</th>\n",
       "      <th>pickup_distance_to_ewr</th>\n",
       "      <th>dropoff_distance_to_ewr</th>\n",
       "      <th>night_hour</th>\n",
       "      <th>peak_hour</th>\n",
       "      <th>is_group</th>\n",
       "    </tr>\n",
       "  </thead>\n",
       "  <tbody>\n",
       "    <tr>\n",
       "      <th>0</th>\n",
       "      <td>4.500000</td>\n",
       "      <td>-73.844315</td>\n",
       "      <td>40.721317</td>\n",
       "      <td>-73.841614</td>\n",
       "      <td>40.712276</td>\n",
       "      <td>1</td>\n",
       "      <td>2009</td>\n",
       "      <td>6</td>\n",
       "      <td>15</td>\n",
       "      <td>17</td>\n",
       "      <td>...</td>\n",
       "      <td>118.806770</td>\n",
       "      <td>85.168259</td>\n",
       "      <td>80.469818</td>\n",
       "      <td>10.504698</td>\n",
       "      <td>9.538048</td>\n",
       "      <td>28.056526</td>\n",
       "      <td>28.176485</td>\n",
       "      <td>0</td>\n",
       "      <td>1</td>\n",
       "      <td>0</td>\n",
       "    </tr>\n",
       "    <tr>\n",
       "      <th>1</th>\n",
       "      <td>16.906250</td>\n",
       "      <td>-74.016045</td>\n",
       "      <td>40.711304</td>\n",
       "      <td>-73.979271</td>\n",
       "      <td>40.782005</td>\n",
       "      <td>1</td>\n",
       "      <td>2010</td>\n",
       "      <td>1</td>\n",
       "      <td>5</td>\n",
       "      <td>16</td>\n",
       "      <td>...</td>\n",
       "      <td>112.469566</td>\n",
       "      <td>73.248276</td>\n",
       "      <td>74.245476</td>\n",
       "      <td>21.522924</td>\n",
       "      <td>23.071320</td>\n",
       "      <td>13.576503</td>\n",
       "      <td>19.400764</td>\n",
       "      <td>0</td>\n",
       "      <td>1</td>\n",
       "      <td>0</td>\n",
       "    </tr>\n",
       "    <tr>\n",
       "      <th>2</th>\n",
       "      <td>5.699219</td>\n",
       "      <td>-73.982735</td>\n",
       "      <td>40.761269</td>\n",
       "      <td>-73.991241</td>\n",
       "      <td>40.750561</td>\n",
       "      <td>2</td>\n",
       "      <td>2011</td>\n",
       "      <td>8</td>\n",
       "      <td>18</td>\n",
       "      <td>0</td>\n",
       "      <td>...</td>\n",
       "      <td>116.087288</td>\n",
       "      <td>76.135559</td>\n",
       "      <td>77.875183</td>\n",
       "      <td>21.806578</td>\n",
       "      <td>21.691015</td>\n",
       "      <td>18.023294</td>\n",
       "      <td>16.870958</td>\n",
       "      <td>1</td>\n",
       "      <td>0</td>\n",
       "      <td>1</td>\n",
       "    </tr>\n",
       "    <tr>\n",
       "      <th>3</th>\n",
       "      <td>7.699219</td>\n",
       "      <td>-73.987129</td>\n",
       "      <td>40.733143</td>\n",
       "      <td>-73.991570</td>\n",
       "      <td>40.758091</td>\n",
       "      <td>1</td>\n",
       "      <td>2012</td>\n",
       "      <td>4</td>\n",
       "      <td>21</td>\n",
       "      <td>4</td>\n",
       "      <td>...</td>\n",
       "      <td>115.267639</td>\n",
       "      <td>75.342369</td>\n",
       "      <td>77.062622</td>\n",
       "      <td>20.369770</td>\n",
       "      <td>22.192451</td>\n",
       "      <td>16.521685</td>\n",
       "      <td>17.199459</td>\n",
       "      <td>1</td>\n",
       "      <td>0</td>\n",
       "      <td>0</td>\n",
       "    </tr>\n",
       "    <tr>\n",
       "      <th>4</th>\n",
       "      <td>5.300781</td>\n",
       "      <td>-73.968094</td>\n",
       "      <td>40.768009</td>\n",
       "      <td>-73.956657</td>\n",
       "      <td>40.783764</td>\n",
       "      <td>1</td>\n",
       "      <td>2010</td>\n",
       "      <td>3</td>\n",
       "      <td>9</td>\n",
       "      <td>7</td>\n",
       "      <td>...</td>\n",
       "      <td>111.966919</td>\n",
       "      <td>73.810760</td>\n",
       "      <td>73.682373</td>\n",
       "      <td>21.331076</td>\n",
       "      <td>21.850615</td>\n",
       "      <td>19.460770</td>\n",
       "      <td>21.136179</td>\n",
       "      <td>0</td>\n",
       "      <td>0</td>\n",
       "      <td>0</td>\n",
       "    </tr>\n",
       "  </tbody>\n",
       "</table>\n",
       "<p>5 rows × 31 columns</p>\n",
       "</div>"
      ],
      "text/plain": [
       "   fare_amount  pickup_longitude  pickup_latitude  dropoff_longitude  \\\n",
       "0     4.500000        -73.844315        40.721317         -73.841614   \n",
       "1    16.906250        -74.016045        40.711304         -73.979271   \n",
       "2     5.699219        -73.982735        40.761269         -73.991241   \n",
       "3     7.699219        -73.987129        40.733143         -73.991570   \n",
       "4     5.300781        -73.968094        40.768009         -73.956657   \n",
       "\n",
       "   dropoff_latitude  passenger_count  year  month  day  hour    ...     \\\n",
       "0         40.712276                1  2009      6   15    17    ...      \n",
       "1         40.782005                1  2010      1    5    16    ...      \n",
       "2         40.750561                2  2011      8   18     0    ...      \n",
       "3         40.758091                1  2012      4   21     4    ...      \n",
       "4         40.783764                1  2010      3    9     7    ...      \n",
       "\n",
       "   dropoff_distance_to_Dutchess  dropoff_distance_to_Orange  \\\n",
       "0                    118.806770                   85.168259   \n",
       "1                    112.469566                   73.248276   \n",
       "2                    116.087288                   76.135559   \n",
       "3                    115.267639                   75.342369   \n",
       "4                    111.966919                   73.810760   \n",
       "\n",
       "   dropoff_distance_to_Putnam  pickup_distance_to_jfk  \\\n",
       "0                   80.469818               10.504698   \n",
       "1                   74.245476               21.522924   \n",
       "2                   77.875183               21.806578   \n",
       "3                   77.062622               20.369770   \n",
       "4                   73.682373               21.331076   \n",
       "\n",
       "   dropoff_distance_to_jfk  pickup_distance_to_ewr  dropoff_distance_to_ewr  \\\n",
       "0                 9.538048               28.056526                28.176485   \n",
       "1                23.071320               13.576503                19.400764   \n",
       "2                21.691015               18.023294                16.870958   \n",
       "3                22.192451               16.521685                17.199459   \n",
       "4                21.850615               19.460770                21.136179   \n",
       "\n",
       "   night_hour  peak_hour  is_group  \n",
       "0           0          1         0  \n",
       "1           0          1         0  \n",
       "2           1          0         1  \n",
       "3           1          0         0  \n",
       "4           0          0         0  \n",
       "\n",
       "[5 rows x 31 columns]"
      ]
     },
     "execution_count": 26,
     "metadata": {},
     "output_type": "execute_result"
    }
   ],
   "source": [
    "df_train.head()"
   ]
  },
  {
   "cell_type": "code",
   "execution_count": 27,
   "metadata": {
    "collapsed": true
   },
   "outputs": [],
   "source": [
    "y = df_train['fare_amount'].copy()\n",
    "df_train.drop(['fare_amount'], axis=1, inplace=True)\n",
    "\n",
    "test_label = df_test['fare_amount']\n",
    "df_test.drop(['fare_amount'], axis=1, inplace=True)"
   ]
  },
  {
   "cell_type": "code",
   "execution_count": 28,
   "metadata": {
    "collapsed": true
   },
   "outputs": [],
   "source": [
    "x_train,x_test,y_train,y_test = train_test_split(df_train,y,random_state=42,test_size=0.15)"
   ]
  },
  {
   "cell_type": "code",
   "execution_count": 29,
   "metadata": {
    "collapsed": true
   },
   "outputs": [],
   "source": [
    "params = {\n",
    "        'boosting_type':'gbdt',\n",
    "        'objective': 'regression',\n",
    "        'nthread': 4,\n",
    "        'num_leaves': 31,\n",
    "        'learning_rate': 0.029,\n",
    "        'max_depth': -1,\n",
    "        'subsample': 0.8,\n",
    "        'colsample_bytree': 0.6,\n",
    "        'metric': 'rmse',\n",
    "        'min_split_gain': 0.5,\n",
    "        'min_child_weight': 1,\n",
    "        'min_child_samples': 10,\n",
    "        'scale_pos_weight':1,\n",
    "        'zero_as_missing': True,\n",
    "        'seed':0,\n",
    "        'num_rounds':5000\n",
    "}\n",
    "cat_features = ['night_hour', 'peak_hour', 'is_group']"
   ]
  },
  {
   "cell_type": "code",
   "execution_count": 30,
   "metadata": {},
   "outputs": [
    {
     "name": "stderr",
     "output_type": "stream",
     "text": [
      "/home/wgq/anaconda3/envs/oppo/lib/python3.6/site-packages/lightgbm/engine.py:113: UserWarning: Found `num_rounds` in params. Will use it instead of argument\n",
      "  warnings.warn(\"Found `{}` in params. Will use it instead of argument\".format(alias))\n",
      "/home/wgq/anaconda3/envs/oppo/lib/python3.6/site-packages/lightgbm/basic.py:1184: UserWarning: Using categorical_feature in Dataset.\n",
      "  warnings.warn('Using categorical_feature in Dataset.')\n",
      "/home/wgq/anaconda3/envs/oppo/lib/python3.6/site-packages/lightgbm/basic.py:742: UserWarning: categorical_feature in param dict is overridden.\n",
      "  warnings.warn('categorical_feature in param dict is overridden.')\n"
     ]
    },
    {
     "name": "stdout",
     "output_type": "stream",
     "text": [
      "Training until validation scores don't improve for 500 rounds.\n",
      "[500]\tvalid_0's rmse: 3.25739\n",
      "[1000]\tvalid_0's rmse: 3.2025\n",
      "[1500]\tvalid_0's rmse: 3.1786\n",
      "[2000]\tvalid_0's rmse: 3.16185\n",
      "[2500]\tvalid_0's rmse: 3.15081\n",
      "[3000]\tvalid_0's rmse: 3.14101\n",
      "[3500]\tvalid_0's rmse: 3.13224\n",
      "[4000]\tvalid_0's rmse: 3.12738\n",
      "[4500]\tvalid_0's rmse: 3.12279\n",
      "[5000]\tvalid_0's rmse: 3.11839\n",
      "Did not meet early stopping. Best iteration is:\n",
      "[4998]\tvalid_0's rmse: 3.11839\n"
     ]
    }
   ],
   "source": [
    "train_set = lgbm.Dataset(x_train, y_train, silent=False,categorical_feature=cat_features)\n",
    "valid_set = lgbm.Dataset(x_test, y_test, silent=False,categorical_feature=cat_features)\n",
    "\n",
    "model = lgbm.train(params, train_set = train_set, num_boost_round=10000,early_stopping_rounds=500,verbose_eval=500, valid_sets=valid_set)\n"
   ]
  },
  {
   "cell_type": "code",
   "execution_count": 31,
   "metadata": {
    "scrolled": false
   },
   "outputs": [
    {
     "data": {
      "text/html": [
       "<div>\n",
       "<style>\n",
       "    .dataframe thead tr:only-child th {\n",
       "        text-align: right;\n",
       "    }\n",
       "\n",
       "    .dataframe thead th {\n",
       "        text-align: left;\n",
       "    }\n",
       "\n",
       "    .dataframe tbody tr th {\n",
       "        vertical-align: top;\n",
       "    }\n",
       "</style>\n",
       "<table border=\"1\" class=\"dataframe\">\n",
       "  <thead>\n",
       "    <tr style=\"text-align: right;\">\n",
       "      <th></th>\n",
       "      <th>feature</th>\n",
       "      <th>importance</th>\n",
       "    </tr>\n",
       "  </thead>\n",
       "  <tbody>\n",
       "    <tr>\n",
       "      <th>10</th>\n",
       "      <td>distance</td>\n",
       "      <td>11565</td>\n",
       "    </tr>\n",
       "    <tr>\n",
       "      <th>11</th>\n",
       "      <td>bearing</td>\n",
       "      <td>10631</td>\n",
       "    </tr>\n",
       "    <tr>\n",
       "      <th>8</th>\n",
       "      <td>hour</td>\n",
       "      <td>8318</td>\n",
       "    </tr>\n",
       "    <tr>\n",
       "      <th>23</th>\n",
       "      <td>pickup_distance_to_jfk</td>\n",
       "      <td>6920</td>\n",
       "    </tr>\n",
       "    <tr>\n",
       "      <th>24</th>\n",
       "      <td>dropoff_distance_to_jfk</td>\n",
       "      <td>6279</td>\n",
       "    </tr>\n",
       "    <tr>\n",
       "      <th>14</th>\n",
       "      <td>pickup_distance_to_Nassau</td>\n",
       "      <td>6117</td>\n",
       "    </tr>\n",
       "    <tr>\n",
       "      <th>7</th>\n",
       "      <td>day</td>\n",
       "      <td>6056</td>\n",
       "    </tr>\n",
       "    <tr>\n",
       "      <th>1</th>\n",
       "      <td>pickup_latitude</td>\n",
       "      <td>5961</td>\n",
       "    </tr>\n",
       "    <tr>\n",
       "      <th>17</th>\n",
       "      <td>pickup_distance_to_Westchester</td>\n",
       "      <td>5935</td>\n",
       "    </tr>\n",
       "    <tr>\n",
       "      <th>15</th>\n",
       "      <td>dropoff_distance_to_Nassau</td>\n",
       "      <td>5933</td>\n",
       "    </tr>\n",
       "    <tr>\n",
       "      <th>12</th>\n",
       "      <td>pickup_distance_to_center</td>\n",
       "      <td>5627</td>\n",
       "    </tr>\n",
       "    <tr>\n",
       "      <th>21</th>\n",
       "      <td>dropoff_distance_to_Orange</td>\n",
       "      <td>5604</td>\n",
       "    </tr>\n",
       "    <tr>\n",
       "      <th>13</th>\n",
       "      <td>dropoff_distance_to_center</td>\n",
       "      <td>5486</td>\n",
       "    </tr>\n",
       "    <tr>\n",
       "      <th>5</th>\n",
       "      <td>year</td>\n",
       "      <td>5238</td>\n",
       "    </tr>\n",
       "    <tr>\n",
       "      <th>6</th>\n",
       "      <td>month</td>\n",
       "      <td>5130</td>\n",
       "    </tr>\n",
       "    <tr>\n",
       "      <th>0</th>\n",
       "      <td>pickup_longitude</td>\n",
       "      <td>5087</td>\n",
       "    </tr>\n",
       "    <tr>\n",
       "      <th>9</th>\n",
       "      <td>weekday</td>\n",
       "      <td>5061</td>\n",
       "    </tr>\n",
       "    <tr>\n",
       "      <th>16</th>\n",
       "      <td>dropoff_distance_to_Suffolk</td>\n",
       "      <td>4815</td>\n",
       "    </tr>\n",
       "    <tr>\n",
       "      <th>2</th>\n",
       "      <td>dropoff_longitude</td>\n",
       "      <td>4617</td>\n",
       "    </tr>\n",
       "    <tr>\n",
       "      <th>25</th>\n",
       "      <td>pickup_distance_to_ewr</td>\n",
       "      <td>4477</td>\n",
       "    </tr>\n",
       "    <tr>\n",
       "      <th>18</th>\n",
       "      <td>dropoff_distance_to_Westchester</td>\n",
       "      <td>4315</td>\n",
       "    </tr>\n",
       "    <tr>\n",
       "      <th>26</th>\n",
       "      <td>dropoff_distance_to_ewr</td>\n",
       "      <td>4235</td>\n",
       "    </tr>\n",
       "    <tr>\n",
       "      <th>3</th>\n",
       "      <td>dropoff_latitude</td>\n",
       "      <td>3909</td>\n",
       "    </tr>\n",
       "    <tr>\n",
       "      <th>19</th>\n",
       "      <td>dropoff_distance_to_Rockland</td>\n",
       "      <td>3602</td>\n",
       "    </tr>\n",
       "    <tr>\n",
       "      <th>20</th>\n",
       "      <td>dropoff_distance_to_Dutchess</td>\n",
       "      <td>2761</td>\n",
       "    </tr>\n",
       "    <tr>\n",
       "      <th>22</th>\n",
       "      <td>dropoff_distance_to_Putnam</td>\n",
       "      <td>2573</td>\n",
       "    </tr>\n",
       "    <tr>\n",
       "      <th>27</th>\n",
       "      <td>night_hour</td>\n",
       "      <td>1412</td>\n",
       "    </tr>\n",
       "    <tr>\n",
       "      <th>4</th>\n",
       "      <td>passenger_count</td>\n",
       "      <td>1268</td>\n",
       "    </tr>\n",
       "    <tr>\n",
       "      <th>28</th>\n",
       "      <td>peak_hour</td>\n",
       "      <td>537</td>\n",
       "    </tr>\n",
       "    <tr>\n",
       "      <th>29</th>\n",
       "      <td>is_group</td>\n",
       "      <td>471</td>\n",
       "    </tr>\n",
       "  </tbody>\n",
       "</table>\n",
       "</div>"
      ],
      "text/plain": [
       "                            feature  importance\n",
       "10                         distance       11565\n",
       "11                          bearing       10631\n",
       "8                              hour        8318\n",
       "23           pickup_distance_to_jfk        6920\n",
       "24          dropoff_distance_to_jfk        6279\n",
       "14        pickup_distance_to_Nassau        6117\n",
       "7                               day        6056\n",
       "1                   pickup_latitude        5961\n",
       "17   pickup_distance_to_Westchester        5935\n",
       "15       dropoff_distance_to_Nassau        5933\n",
       "12        pickup_distance_to_center        5627\n",
       "21       dropoff_distance_to_Orange        5604\n",
       "13       dropoff_distance_to_center        5486\n",
       "5                              year        5238\n",
       "6                             month        5130\n",
       "0                  pickup_longitude        5087\n",
       "9                           weekday        5061\n",
       "16      dropoff_distance_to_Suffolk        4815\n",
       "2                 dropoff_longitude        4617\n",
       "25           pickup_distance_to_ewr        4477\n",
       "18  dropoff_distance_to_Westchester        4315\n",
       "26          dropoff_distance_to_ewr        4235\n",
       "3                  dropoff_latitude        3909\n",
       "19     dropoff_distance_to_Rockland        3602\n",
       "20     dropoff_distance_to_Dutchess        2761\n",
       "22       dropoff_distance_to_Putnam        2573\n",
       "27                       night_hour        1412\n",
       "4                   passenger_count        1268\n",
       "28                        peak_hour         537\n",
       "29                         is_group         471"
      ]
     },
     "execution_count": 31,
     "metadata": {},
     "output_type": "execute_result"
    }
   ],
   "source": [
    "res = pd.DataFrame({\n",
    "    'feature': model.feature_name(),\n",
    "    'importance': model.feature_importance()\n",
    "})\n",
    "res.sort_values('importance', ascending=False)"
   ]
  },
  {
   "cell_type": "code",
   "execution_count": 32,
   "metadata": {},
   "outputs": [
    {
     "name": "stdout",
     "output_type": "stream",
     "text": [
      "均方差误差为: 3.1771562666\n"
     ]
    }
   ],
   "source": [
    "#预测\n",
    "prediction = model.predict(df_test, num_iteration = model.best_iteration)\n",
    "rmse = np.sqrt(metrics.mean_squared_error(prediction, test_label))\n",
    "print('均方差误差为:', rmse)"
   ]
  },
  {
   "cell_type": "code",
   "execution_count": null,
   "metadata": {
    "collapsed": true
   },
   "outputs": [],
   "source": []
  },
  {
   "cell_type": "code",
   "execution_count": null,
   "metadata": {
    "collapsed": true
   },
   "outputs": [],
   "source": []
  }
 ],
 "metadata": {
  "kernelspec": {
   "display_name": "Python 3",
   "language": "python",
   "name": "python3"
  },
  "language_info": {
   "codemirror_mode": {
    "name": "ipython",
    "version": 3
   },
   "file_extension": ".py",
   "mimetype": "text/x-python",
   "name": "python",
   "nbconvert_exporter": "python",
   "pygments_lexer": "ipython3",
   "version": "3.6.2"
  }
 },
 "nbformat": 4,
 "nbformat_minor": 2
}
